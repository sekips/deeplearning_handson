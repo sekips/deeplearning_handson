{
 "cells": [
  {
   "cell_type": "markdown",
   "metadata": {},
   "source": [
    "# TensorflowとKerasでディープラーニング（犬と猫の2クラス認識）\n",
    "tensorflowとkerasを用いてKaggleのDogs vs. Catsで提供されている犬と猫の画像のデータ(https://www.kaggle.com/c/dogs-vs-cats-redux-kernels-edition )を学習させる。   \n",
    "これまでのMNISTのようにあらかじめ準備されているデータセットではなく、画像で配布されているデータセットを用いるため、自分で画像を読み込んで学習させる必要がある。"
   ]
  },
  {
   "cell_type": "markdown",
   "metadata": {},
   "source": [
    "## 1.必要なモジュールのimport\n",
    "今回は画像の読み込みを行うためにkeras.preprocessing.imageからImageDataGeneratorを追加で読み込む。"
   ]
  },
  {
   "cell_type": "code",
   "execution_count": 1,
   "metadata": {
    "collapsed": false
   },
   "outputs": [
    {
     "name": "stderr",
     "output_type": "stream",
     "text": [
      "Using TensorFlow backend.\n"
     ]
    }
   ],
   "source": [
    "import tensorflow as tf\n",
    "import keras\n",
    "from keras.models import Sequential\n",
    "from keras.layers import Dense, Activation, Flatten, Conv2D, MaxPooling2D\n",
    "from keras.optimizers import SGD\n",
    "from keras.preprocessing.image import ImageDataGenerator\n",
    "import numpy as np\n",
    "import matplotlib.pyplot as plt\n",
    "%matplotlib inline"
   ]
  },
  {
   "cell_type": "markdown",
   "metadata": {},
   "source": [
    "## 2.画像データの読み込み\n",
    "読み込んだ画像データをニューラルネットワークに入れる時の設定をImageDataGeneratorで決めておく。\n",
    "    \n",
    "下では画像の0-255のピクセル値を計算の便宜上255で割って全ての数字を0-1の間に圧縮するように定義して、datagenと名前をつけて保存している。   \n",
    "    \n",
    "ここでは提示していないが、例えばhorizontal_flip=Trueと追加すると左右反転を自動で増やしたりしてくれる。他にも様々なデータの拡張が可能であり、詳細はhttps://keras.io/ja/preprocessing/image/ に説明がある。"
   ]
  },
  {
   "cell_type": "code",
   "execution_count": 2,
   "metadata": {
    "collapsed": false
   },
   "outputs": [],
   "source": [
    "datagen = ImageDataGenerator(rescale=1./255)"
   ]
  },
  {
   "cell_type": "markdown",
   "metadata": {},
   "source": [
    ".flow_from_directoryという関数を用いて、ディレクトリを指定してそこから画像ファイルを読み込んで名前をつけておく。ここでは学習用データをtrain_generator、検証用データをvalidate_generatorと名付けている。    \n",
    "    \n",
    "読み込みの際にtarget_sizeで画像のサイズを指定する。画像は全て指定したサイズにリサイズされる。ここでは32x32ピクセルに指定している。     \n",
    "    \n",
    "batch_sizeはニューラルネットワークに入れる際に、いくつかのデータをまとめて読み込ませることになるため、学習または検証の際に一度に読み込むデータ数を指定する。ここでは20個を同時に読み込み、その誤差の平均を用いてネットワークのパラメータを更新していくように設定している。    \n",
    "    \n",
    "class_modeは\"categorical\"か\"binary\"か\"sparse\"か\"None\"のいずれか一つから選択する。ここではcategoricalとしているが、犬と猫の2クラス分類なのでbinaryでもよい。"
   ]
  },
  {
   "cell_type": "code",
   "execution_count": 3,
   "metadata": {
    "collapsed": false
   },
   "outputs": [
    {
     "name": "stdout",
     "output_type": "stream",
     "text": [
      "Found 2000 images belonging to 2 classes.\n",
      "Found 500 images belonging to 2 classes.\n"
     ]
    }
   ],
   "source": [
    "train_generator = datagen.flow_from_directory(\n",
    "        'dog_or_cat/train',\n",
    "        target_size=(32, 32),\n",
    "        batch_size=20,\n",
    "        class_mode='categorical')\n",
    "validate_generator = datagen.flow_from_directory(\n",
    "        'dog_or_cat/validate',\n",
    "        target_size=(32, 32),\n",
    "        batch_size=20,\n",
    "        class_mode='categorical')"
   ]
  },
  {
   "cell_type": "markdown",
   "metadata": {},
   "source": [
    "## 3.Kerasを用いてニューラルネットを組む\n",
    "    \n",
    "Kerasを用いて畳み込みニューラルネットワークを組む。MNISTの時と同様のネットワークを用いているが、今回の画像は32x32ピクセルのカラー画像なので、input_shapeを(32,32,3)と変更している。また、2クラス分類問題なので最後のDense層のunit数を2に変更している。"
   ]
  },
  {
   "cell_type": "code",
   "execution_count": 4,
   "metadata": {
    "collapsed": true
   },
   "outputs": [],
   "source": [
    "model = Sequential()\n",
    "model.add(Conv2D(16, (3, 3), activation='relu', input_shape=(32, 32, 3)))\n",
    "model.add(MaxPooling2D(pool_size=(2, 2)))\n",
    "\n",
    "model.add(Conv2D(32, (3, 3), activation='relu'))\n",
    "model.add(MaxPooling2D(pool_size=(2, 2)))\n",
    "\n",
    "model.add(Flatten())\n",
    "model.add(Dense(256, activation='relu'))\n",
    "model.add(Dense(2, activation='softmax'))"
   ]
  },
  {
   "cell_type": "markdown",
   "metadata": {},
   "source": [
    "## 4.作成したニューラルネットをどのように学習させるかを設定する\n",
    ".compile()で損失関数(loss)、最適化アルゴリズム(optimizer)、評価関数(metrics)を与えてニューラルネットを完成させる。    \n",
    "    \n",
    "分類問題なのでlossはcategorical_crossentropyを用い、確率的勾配降下法（SGD, Stochastic Gradient Descent）によるパラメータ更新としている。"
   ]
  },
  {
   "cell_type": "code",
   "execution_count": 5,
   "metadata": {
    "collapsed": true
   },
   "outputs": [],
   "source": [
    "model.compile(loss=\"categorical_crossentropy\", optimizer=SGD(lr=0.01), metrics=[\"accuracy\"])"
   ]
  },
  {
   "cell_type": "markdown",
   "metadata": {},
   "source": [
    "## 5.学習\n",
    "学習を開始する。ImageDataGeneratorで作成したデータを学習させるときは、前回使用したmodel.fitではなく、model.fit_generatorを用いる。  \n",
    "    \n",
    "学習に用いるデータとしてtrain_generatorを指定し、検証に用いるデータとしてvalidate_generatorを指定する。   \n",
    "   \n",
    "steps_per_epochは1 epochあたりにデータを学習させる回数であり、通常は(データ総数/バッチ数)とする。ここでは学習データは2000個でバッチ数は20個なので、steps_per_epochは2000/20 = 100としている。   \n",
    "\n",
    "validation_stepsも同様で、各エポックの終わりに精度を検証をするときにデータを入力する回数であり、通常は(データ総数/バッチ数)とする。ここでは検証用データは500個でバッチ数は20個なので、steps_per_epochは500/20 = 25としている。 \n",
    "    \n",
    "学習は10 epochsで設定しているが、おそらく時間は結構かかると思われる。（PCにもよるがCPUだと数分くらい）"
   ]
  },
  {
   "cell_type": "code",
   "execution_count": 6,
   "metadata": {
    "collapsed": false
   },
   "outputs": [
    {
     "name": "stdout",
     "output_type": "stream",
     "text": [
      "Epoch 1/10\n",
      "100/100 [==============================] - 15s - loss: 0.6958 - acc: 0.5025 - val_loss: 0.6886 - val_acc: 0.5280\n",
      "Epoch 2/10\n",
      "100/100 [==============================] - 13s - loss: 0.6846 - acc: 0.5685 - val_loss: 0.6909 - val_acc: 0.5180\n",
      "Epoch 3/10\n",
      "100/100 [==============================] - 13s - loss: 0.6811 - acc: 0.5705 - val_loss: 0.6764 - val_acc: 0.6160\n",
      "Epoch 4/10\n",
      "100/100 [==============================] - 13s - loss: 0.6760 - acc: 0.5880 - val_loss: 0.6719 - val_acc: 0.6060\n",
      "Epoch 5/10\n",
      "100/100 [==============================] - 13s - loss: 0.6713 - acc: 0.5975 - val_loss: 0.6749 - val_acc: 0.5540\n",
      "Epoch 6/10\n",
      "100/100 [==============================] - 13s - loss: 0.6685 - acc: 0.6080 - val_loss: 0.6701 - val_acc: 0.5600\n",
      "Epoch 7/10\n",
      "100/100 [==============================] - 13s - loss: 0.6636 - acc: 0.6040 - val_loss: 0.6551 - val_acc: 0.6380\n",
      "Epoch 8/10\n",
      "100/100 [==============================] - 13s - loss: 0.6601 - acc: 0.6050 - val_loss: 0.6598 - val_acc: 0.6280\n",
      "Epoch 9/10\n",
      "100/100 [==============================] - 13s - loss: 0.6593 - acc: 0.6015 - val_loss: 0.6773 - val_acc: 0.5500\n",
      "Epoch 10/10\n",
      "100/100 [==============================] - 14s - loss: 0.6484 - acc: 0.6210 - val_loss: 0.6497 - val_acc: 0.6260\n"
     ]
    },
    {
     "data": {
      "text/plain": [
       "<keras.callbacks.History at 0x11c01ff28>"
      ]
     },
     "execution_count": 6,
     "metadata": {},
     "output_type": "execute_result"
    }
   ],
   "source": [
    "model.fit_generator(train_generator, epochs=10, steps_per_epoch=100, validation_data=validate_generator, validation_steps = 25)"
   ]
  },
  {
   "cell_type": "markdown",
   "metadata": {},
   "source": [
    "## 6.ネットワークを変えてやってみる\n",
    "ニューラルネットワーク構築部分を変えて、精度が改善しないか試行する。"
   ]
  },
  {
   "cell_type": "code",
   "execution_count": null,
   "metadata": {
    "collapsed": true
   },
   "outputs": [],
   "source": [
    "model = Sequential()\n",
    "\n",
    "#構造をここに記入\n",
    "\n",
    "model.add(Dense(2, activation='softmax'))"
   ]
  },
  {
   "cell_type": "code",
   "execution_count": null,
   "metadata": {
    "collapsed": true
   },
   "outputs": [],
   "source": [
    "#モデルをコンパイルして学習させてみる\n",
    "model.compile(loss=\"categorical_crossentropy\", optimizer=SGD(lr=0.01), metrics=[\"accuracy\"])\n",
    "model.fit_generator(train_generator, epochs=10, steps_per_epoch=100, validation_data=validate_generator, validation_steps = 25)"
   ]
  }
 ],
 "metadata": {
  "anaconda-cloud": {},
  "kernelspec": {
   "display_name": "Python [default]",
   "language": "python",
   "name": "python3"
  },
  "language_info": {
   "codemirror_mode": {
    "name": "ipython",
    "version": 3
   },
   "file_extension": ".py",
   "mimetype": "text/x-python",
   "name": "python",
   "nbconvert_exporter": "python",
   "pygments_lexer": "ipython3",
   "version": "3.5.2"
  }
 },
 "nbformat": 4,
 "nbformat_minor": 0
}
