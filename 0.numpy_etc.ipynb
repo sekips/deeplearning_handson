{
 "cells": [
  {
   "cell_type": "code",
   "execution_count": null,
   "metadata": {
    "collapsed": false
   },
   "outputs": [],
   "source": [
    "1+1"
   ]
  },
  {
   "cell_type": "code",
   "execution_count": null,
   "metadata": {
    "collapsed": false
   },
   "outputs": [],
   "source": [
    "2*2"
   ]
  },
  {
   "cell_type": "code",
   "execution_count": null,
   "metadata": {
    "collapsed": false
   },
   "outputs": [],
   "source": [
    "2/2"
   ]
  },
  {
   "cell_type": "code",
   "execution_count": null,
   "metadata": {
    "collapsed": false
   },
   "outputs": [],
   "source": [
    "4-5"
   ]
  },
  {
   "cell_type": "code",
   "execution_count": null,
   "metadata": {
    "collapsed": false
   },
   "outputs": [],
   "source": [
    "4**5"
   ]
  },
  {
   "cell_type": "code",
   "execution_count": null,
   "metadata": {
    "collapsed": true
   },
   "outputs": [],
   "source": [
    "a = 5**4"
   ]
  },
  {
   "cell_type": "code",
   "execution_count": null,
   "metadata": {
    "collapsed": false
   },
   "outputs": [],
   "source": [
    "a"
   ]
  },
  {
   "cell_type": "code",
   "execution_count": null,
   "metadata": {
    "collapsed": true
   },
   "outputs": [],
   "source": [
    "a = 6"
   ]
  },
  {
   "cell_type": "code",
   "execution_count": null,
   "metadata": {
    "collapsed": false
   },
   "outputs": [],
   "source": [
    "a"
   ]
  },
  {
   "cell_type": "code",
   "execution_count": null,
   "metadata": {
    "collapsed": false
   },
   "outputs": [],
   "source": [
    "a/6"
   ]
  },
  {
   "cell_type": "code",
   "execution_count": null,
   "metadata": {
    "collapsed": true
   },
   "outputs": [],
   "source": [
    "a = [1,3,4,8]"
   ]
  },
  {
   "cell_type": "code",
   "execution_count": null,
   "metadata": {
    "collapsed": false
   },
   "outputs": [],
   "source": [
    "a"
   ]
  },
  {
   "cell_type": "code",
   "execution_count": null,
   "metadata": {
    "collapsed": false
   },
   "outputs": [],
   "source": [
    "a*2"
   ]
  },
  {
   "cell_type": "code",
   "execution_count": null,
   "metadata": {
    "collapsed": false
   },
   "outputs": [],
   "source": [
    "a.append(2)"
   ]
  },
  {
   "cell_type": "code",
   "execution_count": null,
   "metadata": {
    "collapsed": false
   },
   "outputs": [],
   "source": [
    "a"
   ]
  },
  {
   "cell_type": "code",
   "execution_count": 2,
   "metadata": {
    "collapsed": true
   },
   "outputs": [],
   "source": [
    "import numpy as np"
   ]
  },
  {
   "cell_type": "code",
   "execution_count": null,
   "metadata": {
    "collapsed": false
   },
   "outputs": [],
   "source": [
    "a = np.array(a)"
   ]
  },
  {
   "cell_type": "code",
   "execution_count": null,
   "metadata": {
    "collapsed": false
   },
   "outputs": [],
   "source": [
    "a"
   ]
  },
  {
   "cell_type": "code",
   "execution_count": null,
   "metadata": {
    "collapsed": false
   },
   "outputs": [],
   "source": [
    "a*2"
   ]
  },
  {
   "cell_type": "code",
   "execution_count": null,
   "metadata": {
    "collapsed": false
   },
   "outputs": [],
   "source": [
    "a-1"
   ]
  },
  {
   "cell_type": "code",
   "execution_count": null,
   "metadata": {
    "collapsed": false
   },
   "outputs": [],
   "source": [
    "a**2"
   ]
  },
  {
   "cell_type": "code",
   "execution_count": null,
   "metadata": {
    "collapsed": false
   },
   "outputs": [],
   "source": [
    "a+a"
   ]
  },
  {
   "cell_type": "code",
   "execution_count": null,
   "metadata": {
    "collapsed": false
   },
   "outputs": [],
   "source": [
    "a*a"
   ]
  },
  {
   "cell_type": "code",
   "execution_count": null,
   "metadata": {
    "collapsed": false
   },
   "outputs": [],
   "source": [
    "b = np.array([[1,2,3],[4,5,6],[7,8,9]])"
   ]
  },
  {
   "cell_type": "code",
   "execution_count": null,
   "metadata": {
    "collapsed": false
   },
   "outputs": [],
   "source": [
    "b"
   ]
  },
  {
   "cell_type": "code",
   "execution_count": null,
   "metadata": {
    "collapsed": true
   },
   "outputs": [],
   "source": [
    "c = np.array([[2,2,4],[4,4,6],[8,8,6]])"
   ]
  },
  {
   "cell_type": "code",
   "execution_count": null,
   "metadata": {
    "collapsed": false
   },
   "outputs": [],
   "source": [
    "c"
   ]
  },
  {
   "cell_type": "code",
   "execution_count": null,
   "metadata": {
    "collapsed": false
   },
   "outputs": [],
   "source": [
    "b+c"
   ]
  },
  {
   "cell_type": "code",
   "execution_count": null,
   "metadata": {
    "collapsed": false
   },
   "outputs": [],
   "source": [
    "b*c"
   ]
  },
  {
   "cell_type": "code",
   "execution_count": null,
   "metadata": {
    "collapsed": false
   },
   "outputs": [],
   "source": [
    "b.shape"
   ]
  },
  {
   "cell_type": "code",
   "execution_count": null,
   "metadata": {
    "collapsed": false
   },
   "outputs": [],
   "source": [
    "d = np.array([b,b,b,b,c,c])"
   ]
  },
  {
   "cell_type": "code",
   "execution_count": null,
   "metadata": {
    "collapsed": false
   },
   "outputs": [],
   "source": [
    "d"
   ]
  },
  {
   "cell_type": "code",
   "execution_count": null,
   "metadata": {
    "collapsed": false
   },
   "outputs": [],
   "source": [
    "d.shape"
   ]
  },
  {
   "cell_type": "code",
   "execution_count": 3,
   "metadata": {
    "collapsed": false
   },
   "outputs": [],
   "source": [
    "dummy_picture = np.array([[ 0, 0, 1, 1, 1, 1, 1, 1, 0, 0],\n",
    "                          [ 0, 0, 1, 1, 1, 1, 1, 1, 0, 0],\n",
    "                          [ 0, 0, 1, 1, 0, 0, 0, 0, 0, 0],\n",
    "                          [ 0, 0, 1, 1, 0, 0, 0, 0, 0, 0],\n",
    "                          [ 0, 0, 1, 1, 1, 1, 1, 1, 0, 0],\n",
    "                          [ 0, 0, 1, 1, 1, 1, 1, 1, 0, 0],\n",
    "                          [ 0, 0, 0, 0, 0, 0, 1, 1, 0, 0],\n",
    "                          [ 0, 0, 0, 0, 0, 0, 1, 1, 0, 0],\n",
    "                          [ 0, 0, 1, 1, 1, 1, 1, 1, 0, 0],\n",
    "                          [ 0, 0, 1, 1, 1, 1, 1, 1, 0, 0]])"
   ]
  },
  {
   "cell_type": "code",
   "execution_count": 4,
   "metadata": {
    "collapsed": false
   },
   "outputs": [
    {
     "data": {
      "text/plain": [
       "array([[0, 0, 1, 1, 1, 1, 1, 1, 0, 0],\n",
       "       [0, 0, 1, 1, 1, 1, 1, 1, 0, 0],\n",
       "       [0, 0, 1, 1, 0, 0, 0, 0, 0, 0],\n",
       "       [0, 0, 1, 1, 0, 0, 0, 0, 0, 0],\n",
       "       [0, 0, 1, 1, 1, 1, 1, 1, 0, 0],\n",
       "       [0, 0, 1, 1, 1, 1, 1, 1, 0, 0],\n",
       "       [0, 0, 0, 0, 0, 0, 1, 1, 0, 0],\n",
       "       [0, 0, 0, 0, 0, 0, 1, 1, 0, 0],\n",
       "       [0, 0, 1, 1, 1, 1, 1, 1, 0, 0],\n",
       "       [0, 0, 1, 1, 1, 1, 1, 1, 0, 0]])"
      ]
     },
     "execution_count": 4,
     "metadata": {},
     "output_type": "execute_result"
    }
   ],
   "source": [
    "dummy_picture"
   ]
  },
  {
   "cell_type": "code",
   "execution_count": 5,
   "metadata": {
    "collapsed": false
   },
   "outputs": [],
   "source": [
    "many_dummy_pictures = np.array([dummy_picture,dummy_picture,dummy_picture,dummy_picture,dummy_picture])"
   ]
  },
  {
   "cell_type": "code",
   "execution_count": 6,
   "metadata": {
    "collapsed": false
   },
   "outputs": [
    {
     "data": {
      "text/plain": [
       "array([[[0, 0, 1, 1, 1, 1, 1, 1, 0, 0],\n",
       "        [0, 0, 1, 1, 1, 1, 1, 1, 0, 0],\n",
       "        [0, 0, 1, 1, 0, 0, 0, 0, 0, 0],\n",
       "        [0, 0, 1, 1, 0, 0, 0, 0, 0, 0],\n",
       "        [0, 0, 1, 1, 1, 1, 1, 1, 0, 0],\n",
       "        [0, 0, 1, 1, 1, 1, 1, 1, 0, 0],\n",
       "        [0, 0, 0, 0, 0, 0, 1, 1, 0, 0],\n",
       "        [0, 0, 0, 0, 0, 0, 1, 1, 0, 0],\n",
       "        [0, 0, 1, 1, 1, 1, 1, 1, 0, 0],\n",
       "        [0, 0, 1, 1, 1, 1, 1, 1, 0, 0]],\n",
       "\n",
       "       [[0, 0, 1, 1, 1, 1, 1, 1, 0, 0],\n",
       "        [0, 0, 1, 1, 1, 1, 1, 1, 0, 0],\n",
       "        [0, 0, 1, 1, 0, 0, 0, 0, 0, 0],\n",
       "        [0, 0, 1, 1, 0, 0, 0, 0, 0, 0],\n",
       "        [0, 0, 1, 1, 1, 1, 1, 1, 0, 0],\n",
       "        [0, 0, 1, 1, 1, 1, 1, 1, 0, 0],\n",
       "        [0, 0, 0, 0, 0, 0, 1, 1, 0, 0],\n",
       "        [0, 0, 0, 0, 0, 0, 1, 1, 0, 0],\n",
       "        [0, 0, 1, 1, 1, 1, 1, 1, 0, 0],\n",
       "        [0, 0, 1, 1, 1, 1, 1, 1, 0, 0]],\n",
       "\n",
       "       [[0, 0, 1, 1, 1, 1, 1, 1, 0, 0],\n",
       "        [0, 0, 1, 1, 1, 1, 1, 1, 0, 0],\n",
       "        [0, 0, 1, 1, 0, 0, 0, 0, 0, 0],\n",
       "        [0, 0, 1, 1, 0, 0, 0, 0, 0, 0],\n",
       "        [0, 0, 1, 1, 1, 1, 1, 1, 0, 0],\n",
       "        [0, 0, 1, 1, 1, 1, 1, 1, 0, 0],\n",
       "        [0, 0, 0, 0, 0, 0, 1, 1, 0, 0],\n",
       "        [0, 0, 0, 0, 0, 0, 1, 1, 0, 0],\n",
       "        [0, 0, 1, 1, 1, 1, 1, 1, 0, 0],\n",
       "        [0, 0, 1, 1, 1, 1, 1, 1, 0, 0]],\n",
       "\n",
       "       [[0, 0, 1, 1, 1, 1, 1, 1, 0, 0],\n",
       "        [0, 0, 1, 1, 1, 1, 1, 1, 0, 0],\n",
       "        [0, 0, 1, 1, 0, 0, 0, 0, 0, 0],\n",
       "        [0, 0, 1, 1, 0, 0, 0, 0, 0, 0],\n",
       "        [0, 0, 1, 1, 1, 1, 1, 1, 0, 0],\n",
       "        [0, 0, 1, 1, 1, 1, 1, 1, 0, 0],\n",
       "        [0, 0, 0, 0, 0, 0, 1, 1, 0, 0],\n",
       "        [0, 0, 0, 0, 0, 0, 1, 1, 0, 0],\n",
       "        [0, 0, 1, 1, 1, 1, 1, 1, 0, 0],\n",
       "        [0, 0, 1, 1, 1, 1, 1, 1, 0, 0]],\n",
       "\n",
       "       [[0, 0, 1, 1, 1, 1, 1, 1, 0, 0],\n",
       "        [0, 0, 1, 1, 1, 1, 1, 1, 0, 0],\n",
       "        [0, 0, 1, 1, 0, 0, 0, 0, 0, 0],\n",
       "        [0, 0, 1, 1, 0, 0, 0, 0, 0, 0],\n",
       "        [0, 0, 1, 1, 1, 1, 1, 1, 0, 0],\n",
       "        [0, 0, 1, 1, 1, 1, 1, 1, 0, 0],\n",
       "        [0, 0, 0, 0, 0, 0, 1, 1, 0, 0],\n",
       "        [0, 0, 0, 0, 0, 0, 1, 1, 0, 0],\n",
       "        [0, 0, 1, 1, 1, 1, 1, 1, 0, 0],\n",
       "        [0, 0, 1, 1, 1, 1, 1, 1, 0, 0]]])"
      ]
     },
     "execution_count": 6,
     "metadata": {},
     "output_type": "execute_result"
    }
   ],
   "source": [
    "many_dummy_pictures"
   ]
  },
  {
   "cell_type": "code",
   "execution_count": 7,
   "metadata": {
    "collapsed": false
   },
   "outputs": [
    {
     "data": {
      "text/plain": [
       "array([[[0, 0, 1, 1, 1, 1, 1, 1, 0, 0],\n",
       "        [0, 0, 1, 1, 1, 1, 1, 1, 0, 0],\n",
       "        [0, 0, 1, 1, 0, 0, 0, 0, 0, 0],\n",
       "        [0, 0, 1, 1, 0, 0, 0, 0, 0, 0],\n",
       "        [0, 0, 1, 1, 1, 1, 1, 1, 0, 0],\n",
       "        [0, 0, 1, 1, 1, 1, 1, 1, 0, 0],\n",
       "        [0, 0, 0, 0, 0, 0, 1, 1, 0, 0],\n",
       "        [0, 0, 0, 0, 0, 0, 1, 1, 0, 0],\n",
       "        [0, 0, 1, 1, 1, 1, 1, 1, 0, 0],\n",
       "        [0, 0, 1, 1, 1, 1, 1, 1, 0, 0]],\n",
       "\n",
       "       [[0, 0, 2, 2, 2, 2, 2, 2, 0, 0],\n",
       "        [0, 0, 2, 2, 2, 2, 2, 2, 0, 0],\n",
       "        [0, 0, 2, 2, 0, 0, 0, 0, 0, 0],\n",
       "        [0, 0, 2, 2, 0, 0, 0, 0, 0, 0],\n",
       "        [0, 0, 2, 2, 2, 2, 2, 2, 0, 0],\n",
       "        [0, 0, 2, 2, 2, 2, 2, 2, 0, 0],\n",
       "        [0, 0, 0, 0, 0, 0, 2, 2, 0, 0],\n",
       "        [0, 0, 0, 0, 0, 0, 2, 2, 0, 0],\n",
       "        [0, 0, 2, 2, 2, 2, 2, 2, 0, 0],\n",
       "        [0, 0, 2, 2, 2, 2, 2, 2, 0, 0]],\n",
       "\n",
       "       [[0, 0, 3, 3, 3, 3, 3, 3, 0, 0],\n",
       "        [0, 0, 3, 3, 3, 3, 3, 3, 0, 0],\n",
       "        [0, 0, 3, 3, 0, 0, 0, 0, 0, 0],\n",
       "        [0, 0, 3, 3, 0, 0, 0, 0, 0, 0],\n",
       "        [0, 0, 3, 3, 3, 3, 3, 3, 0, 0],\n",
       "        [0, 0, 3, 3, 3, 3, 3, 3, 0, 0],\n",
       "        [0, 0, 0, 0, 0, 0, 3, 3, 0, 0],\n",
       "        [0, 0, 0, 0, 0, 0, 3, 3, 0, 0],\n",
       "        [0, 0, 3, 3, 3, 3, 3, 3, 0, 0],\n",
       "        [0, 0, 3, 3, 3, 3, 3, 3, 0, 0]],\n",
       "\n",
       "       [[0, 0, 4, 4, 4, 4, 4, 4, 0, 0],\n",
       "        [0, 0, 4, 4, 4, 4, 4, 4, 0, 0],\n",
       "        [0, 0, 4, 4, 0, 0, 0, 0, 0, 0],\n",
       "        [0, 0, 4, 4, 0, 0, 0, 0, 0, 0],\n",
       "        [0, 0, 4, 4, 4, 4, 4, 4, 0, 0],\n",
       "        [0, 0, 4, 4, 4, 4, 4, 4, 0, 0],\n",
       "        [0, 0, 0, 0, 0, 0, 4, 4, 0, 0],\n",
       "        [0, 0, 0, 0, 0, 0, 4, 4, 0, 0],\n",
       "        [0, 0, 4, 4, 4, 4, 4, 4, 0, 0],\n",
       "        [0, 0, 4, 4, 4, 4, 4, 4, 0, 0]],\n",
       "\n",
       "       [[0, 0, 5, 5, 5, 5, 5, 5, 0, 0],\n",
       "        [0, 0, 5, 5, 5, 5, 5, 5, 0, 0],\n",
       "        [0, 0, 5, 5, 0, 0, 0, 0, 0, 0],\n",
       "        [0, 0, 5, 5, 0, 0, 0, 0, 0, 0],\n",
       "        [0, 0, 5, 5, 5, 5, 5, 5, 0, 0],\n",
       "        [0, 0, 5, 5, 5, 5, 5, 5, 0, 0],\n",
       "        [0, 0, 0, 0, 0, 0, 5, 5, 0, 0],\n",
       "        [0, 0, 0, 0, 0, 0, 5, 5, 0, 0],\n",
       "        [0, 0, 5, 5, 5, 5, 5, 5, 0, 0],\n",
       "        [0, 0, 5, 5, 5, 5, 5, 5, 0, 0]]])"
      ]
     },
     "execution_count": 7,
     "metadata": {},
     "output_type": "execute_result"
    }
   ],
   "source": [
    "many_dummy_pictures * np.array([[[1]],[[2]],[[3]],[[4]],[[5]]])"
   ]
  },
  {
   "cell_type": "code",
   "execution_count": null,
   "metadata": {
    "collapsed": true
   },
   "outputs": [],
   "source": []
  }
 ],
 "metadata": {
  "anaconda-cloud": {},
  "kernelspec": {
   "display_name": "Python [Root]",
   "language": "python",
   "name": "Python [Root]"
  },
  "language_info": {
   "codemirror_mode": {
    "name": "ipython",
    "version": 3
   },
   "file_extension": ".py",
   "mimetype": "text/x-python",
   "name": "python",
   "nbconvert_exporter": "python",
   "pygments_lexer": "ipython3",
   "version": "3.5.2"
  }
 },
 "nbformat": 4,
 "nbformat_minor": 0
}
